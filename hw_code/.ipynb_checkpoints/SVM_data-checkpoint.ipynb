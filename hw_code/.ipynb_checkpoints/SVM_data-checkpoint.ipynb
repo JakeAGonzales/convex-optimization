{
  "nbformat": 4,
  "nbformat_minor": 0,
  "metadata": {
    "colab": {
      "provenance": []
    },
    "kernelspec": {
      "name": "python3",
      "display_name": "Python 3"
    },
    "language_info": {
      "name": "python"
    }
  },
  "cells": [
    {
      "cell_type": "code",
      "source": [
        "import numpy as np\n",
        "import cvxpy as cp"
      ],
      "metadata": {
        "id": "decGBdgy3czb"
      },
      "execution_count": 1,
      "outputs": []
    },
    {
      "cell_type": "markdown",
      "source": [
        "Data for multi-label SVM problem"
      ],
      "metadata": {
        "id": "tPDMRE513hC9"
      }
    },
    {
      "cell_type": "code",
      "source": [
        "np.random.seed(10)\n",
        "\n",
        "mTrain = 100 # size of training data\n",
        "mTest  = 200 # size of test data\n",
        "K = 5;       # number of categories\n",
        "n = 20;      # number of features"
      ],
      "metadata": {
        "id": "UcC_4jjE3f82"
      },
      "execution_count": 2,
      "outputs": []
    },
    {
      "cell_type": "code",
      "source": [
        "A_true = np.random.normal(size=(K, n))\n",
        "b_true = np.random.normal(size=(K, 1))\n",
        "v = np.random.normal(size=(K, mTrain + mTest)) # noise\n",
        "data = np.random.normal(size=(n, mTrain + mTest))\n",
        "label = np.argmax(A_true @ data + np.tile(b_true, (1, mTrain + mTest)) + v, axis=0)"
      ],
      "metadata": {
        "id": "mOgzzOwO4LpA"
      },
      "execution_count": 3,
      "outputs": []
    },
    {
      "cell_type": "markdown",
      "source": [
        "Assign data to test and train"
      ],
      "metadata": {
        "id": "CmNZfSCO8gAk"
      }
    },
    {
      "cell_type": "code",
      "source": [
        "# Training data\n",
        "x = data[:, :mTrain]\n",
        "y = label[:mTrain]\n",
        "# Test data\n",
        "xtest = data[:, mTrain:]\n",
        "ytest = label[mTrain:]"
      ],
      "metadata": {
        "id": "q04EZZEg4ddR"
      },
      "execution_count": 4,
      "outputs": []
    }
  ]
}