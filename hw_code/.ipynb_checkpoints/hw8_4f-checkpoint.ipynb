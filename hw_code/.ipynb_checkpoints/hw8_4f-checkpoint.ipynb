{
 "cells": [
  {
   "cell_type": "code",
   "execution_count": 60,
   "id": "6104b7b7-e06c-466e-9974-8094ef78ccdc",
   "metadata": {},
   "outputs": [
    {
     "name": "stdout",
     "output_type": "stream",
     "text": [
      "Theta_star_0:  [ 2.79429277  1.73116594  0.75485763 ...  1.66521198 -0.24037864\n",
      " -1.28251932]\n",
      "w_star_0:  [-2.01732752e-08  1.02574477e-07 -3.03581145e-08 ...  3.12286701e-09\n",
      " -7.92038920e-07  3.86279571e+00]\n",
      "Screen Ratio for k=1: 0.0\n",
      "Screen Ratio for k=2: 0.0\n",
      "Screen Ratio for k=3: 0.0\n",
      "Screen Ratio for k=4: 0.0\n",
      "Screen Ratio for k=5: 0.0\n"
     ]
    },
    {
     "data": {
      "image/png": "[encoded data removed]",
      "text/plain": [
       "<Figure size 640x480 with 1 Axes>"
      ]
     },
     "metadata": {},
     "output_type": "display_data"
    }
   ],
   "source": [
    "import cvxpy as cp\n",
    "import numpy as np\n",
    "import matplotlib.pyplot as plt\n",
    "import pickle\n",
    "\n",
    "with open('restaurant_reviews.pkl', 'rb') as f:\n",
    "    data = pickle.load(f)\n",
    "\n",
    "X, y, name = data\n",
    "X = np.array(X)\n",
    "n, m = X.shape\n",
    "\n",
    "lambda_0 = 2.5\n",
    "r = 0.93\n",
    "lambdas = [lambda_0 * r**k for k in range(6)]\n",
    "gamma = 1  # assume strong convexity parameter is 1\n",
    "\n",
    "# solve for w*(0) and theta*(0)\n",
    "w = cp.Variable(m)\n",
    "\n",
    "objective = 0.5 * cp.sum_squares(X @ w - y) + lambdas[0] * cp.norm(w, 1)\n",
    "constraints = [w >= 0]\n",
    "\n",
    "problem = cp.Problem(cp.Minimize(objective), constraints)\n",
    "problem.solve()\n",
    "\n",
    "w_star_0 = w.value\n",
    "theta_star_0 = X @ w_star_0 - y\n",
    "\n",
    "print(\"Theta_star_0: \", theta_star_0)\n",
    "print(\"w_star_0: \", w_star_0)\n",
    "\n",
    "def get_G(theta, y): \n",
    "    return 0.5*(cp.square(cp.norm(theta))) + theta.T @ y\n",
    "\n",
    "def get_F(w, x, y): \n",
    "    return 0.5 * cp.sum_squares(X @ w - y)\n",
    "\n",
    "# Apply feature elimination rule\n",
    "screen_ratios = []\n",
    "\n",
    "for k in range(1, 6):\n",
    "    lambda_k = lambdas[k]\n",
    "    theta_tilde = (lambda_k / lambda_0) * theta_star_0\n",
    "\n",
    "    \"\"\"\n",
    "    If I were to implement part b: \n",
    "    \n",
    "    theta_tilde = (lambda_k / lambdas[k-1]) * theta_star_0\n",
    "    w_tilde = w_star_0 / (lambda_k / lambdas[k-1])\n",
    "\n",
    "    we are performing feature reduction so I'd expect the screen ratio to decrease nearly uniformly at each k for part (i) \n",
    "\n",
    "    for part ii I'd expect the monotonic decreasing fashion of k to stay the same but with higher screen ratios like the ratios at each\n",
    "    k are nearly reaching the same point. \n",
    "\n",
    "    at each step more features are being eliminated as the optimization problem progresses \n",
    "\n",
    "    the theta_tilde and w_tilde are normalized factors less than one so as k increases they are decreasing. As more features are eliminated,\n",
    "    the screening ration decreasines because the proportion of remaining features decreases in total. \n",
    "\n",
    "    \"\"\"\n",
    "\n",
    "    G = get_G(theta_tilde,y) \n",
    "    F = get_F(w_star_0,x,y) \n",
    "\n",
    "    # Compute elimination condition\n",
    "    elimination_condition = (cp.norm(X.T) * (cp.sqrt(2*(G + F)))) <= cp.norm(lambda_k + X.T @ theta_tilde, axis=0)\n",
    "    \n",
    "    # Count features to be eliminated\n",
    "    features_to_eliminate = np.sum(elimination_condition.value == True)\n",
    "    screen_ratio = features_to_eliminate / m\n",
    "    screen_ratios.append(screen_ratio)\n",
    "\n",
    "    print(f\"Screen Ratio for k={k}: {screen_ratio}\")\n",
    "\n",
    "# Plot screen ratio\n",
    "plt.plot(range(1, 6), screen_ratios)\n",
    "plt.xlabel(\"k\")\n",
    "plt.ylabel(\"Screen Ratio\")\n",
    "plt.title(\"Screen Ratio vs. k\")\n",
    "plt.show()\n"
   ]
  },
  {
   "cell_type": "code",
   "execution_count": null,
   "id": "f56d7752-765b-4f7e-9a1c-2eb420f9a598",
   "metadata": {},
   "outputs": [],
   "source": []
  }
 ],
 "metadata": {
  "kernelspec": {
   "display_name": "venv",
   "language": "python",
   "name": "venv"
  },
  "language_info": {
   "codemirror_mode": {
    "name": "ipython",
    "version": 3
   },
   "file_extension": ".py",
   "mimetype": "text/x-python",
   "name": "python",
   "nbconvert_exporter": "python",
   "pygments_lexer": "ipython3",
   "version": "3.11.6"
  }
 },
 "nbformat": 4,
 "nbformat_minor": 5
}
