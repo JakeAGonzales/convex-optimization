{
 "cells": [
  {
   "cell_type": "code",
   "execution_count": 9,
   "id": "1e39c61f-627d-4b42-a6f0-7e57d13016a7",
   "metadata": {},
   "outputs": [
    {
     "ename": "SyntaxError",
     "evalue": "invalid syntax. Maybe you meant '==' or ':=' instead of '='? (3631218152.py, line 59)",
     "output_type": "error",
     "traceback": [
      "\u001b[0;36m  Cell \u001b[0;32mIn[9], line 59\u001b[0;36m\u001b[0m\n\u001b[0;31m    y_predTrain = np.argmax((A @ x + b.value, axis=0))\u001b[0m\n\u001b[0m                                              ^\u001b[0m\n\u001b[0;31mSyntaxError\u001b[0m\u001b[0;31m:\u001b[0m invalid syntax. Maybe you meant '==' or ':=' instead of '='?\n"
     ]
    }
   ],
   "source": [
    "\"\"\"\n",
    "Problem 1\n",
    "\n",
    "part b\n",
    "\n",
    "\"\"\"\n",
    "import numpy as np\n",
    "import cvxpy as cp\n",
    "import matplotlib.pyplot as plt\n",
    "\n",
    "import warnings\n",
    "warnings.filterwarnings(\"ignore\")\n",
    "\n",
    "# Given Data\n",
    "np.random.seed()\n",
    "\n",
    "mTrain = 100  # size of training data\n",
    "mTest = 200   # size of test data\n",
    "K = 5         # number of categories\n",
    "n = 20        # number of features\n",
    "\n",
    "A_true = np.random.normal(size=(K, n))\n",
    "b_true = np.random.normal(size=(K, 1))\n",
    "v = np.random.normal(size=(K, mTrain + mTest))  # noise\n",
    "data = np.random.normal(size=(n, mTrain + mTest))\n",
    "label = np.argmax(A_true @ data + np.tile(b_true, (1, mTrain + mTest)) + v, axis=0)\n",
    "\n",
    "# Training data\n",
    "x = data[:, :mTrain]\n",
    "y = label[:mTrain]\n",
    "# Test data\n",
    "xtest = data[:, mTrain:]\n",
    "ytest = label[mTrain:]\n",
    "\n",
    "\n",
    "mus = np.logspace(-1, 2, num=10)\n",
    "#print(mus)\n",
    "errorTrain = []\n",
    "errorTest = []\n",
    "\n",
    "for mu in mus:\n",
    "    A = cp.Variable((K, n))\n",
    "    b = cp.Variable((K,1))\n",
    "    f = A @ x + b #* np.ones((1,mTrain))\n",
    "\n",
    "    L = 0 # cost function\n",
    "    for k in range(1, K+1):\n",
    "        index = np.concatenate((np.arange(k-1), np.arange(k, K)))\n",
    "        L += cp.sum(cp.pos(1 + cp.max(f[index][:, np.where(y == k)[0]], axis=0) - f[k-1, y == k]))\n",
    "        # where cp.pos = max{x,0}\n",
    "    norm = cp.square(cp.norm(A, \"fro\"))\n",
    "    objective = cp.Minimize(L + mu * norm)\n",
    "    constraints = [cp.sum(b) == 0]\n",
    "    \n",
    "    prob = cp.Problem(objective, constraints)\n",
    "    prob.solve()\n",
    "\n",
    "    # training error\n",
    "    y_predTrain = np.argmax((A @ x + b.value, axis=0))\n",
    "    errorTrain.append(np.sum(y_predTrain != y) / mTrain)\n",
    "\n",
    "    # test error\n",
    "    y_predTest = np.argmax((A @ xtest + b.value, axis=0))\n",
    "    errorTest.append(np.sum(y_predTest != ytest) / mTest)\n",
    "\n",
    "# plots\n",
    "plt.clf()\n",
    "plt.semilogx(mus, errorTrain, label='Training Error')\n",
    "plt.semilogx(mus, errorTest, 'r', label='Test Error')\n",
    "plt.xlabel('mu')\n",
    "plt.ylabel('error')\n",
    "plt.legend()\n",
    "plt.show()"
   ]
  },
  {
   "cell_type": "code",
   "execution_count": null,
   "id": "9d7d2598-6feb-4dac-b4ff-a6723d643e12",
   "metadata": {},
   "outputs": [],
   "source": []
  },
  {
   "cell_type": "code",
   "execution_count": null,
   "id": "bc1e72b5-85ad-49cd-aceb-74bd557a4c9d",
   "metadata": {},
   "outputs": [],
   "source": []
  }
 ],
 "metadata": {
  "kernelspec": {
   "display_name": "venv",
   "language": "python",
   "name": "venv"
  },
  "language_info": {
   "codemirror_mode": {
    "name": "ipython",
    "version": 3
   },
   "file_extension": ".py",
   "mimetype": "text/x-python",
   "name": "python",
   "nbconvert_exporter": "python",
   "pygments_lexer": "ipython3",
   "version": "3.11.6"
  }
 },
 "nbformat": 4,
 "nbformat_minor": 5
}
