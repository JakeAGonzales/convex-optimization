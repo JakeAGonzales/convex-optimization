{
 "cells": [
  {
   "cell_type": "code",
   "execution_count": 1,
   "metadata": {
    "id": "decGBdgy3czb"
   },
   "outputs": [],
   "source": [
    "import numpy as np\n",
    "import cvxpy as cp"
   ]
  },
  {
   "cell_type": "markdown",
   "metadata": {
    "id": "tPDMRE513hC9"
   },
   "source": [
    "Data for multi-label SVM problem"
   ]
  },
  {
   "cell_type": "code",
   "execution_count": 2,
   "metadata": {
    "id": "UcC_4jjE3f82"
   },
   "outputs": [],
   "source": [
    "np.random.seed(10)\n",
    "\n",
    "mTrain = 100 # size of training data\n",
    "mTest  = 200 # size of test data\n",
    "K = 5;       # number of categories\n",
    "n = 20;      # number of features"
   ]
  },
  {
   "cell_type": "code",
   "execution_count": 3,
   "metadata": {
    "id": "mOgzzOwO4LpA"
   },
   "outputs": [],
   "source": [
    "A_true = np.random.normal(size=(K, n))\n",
    "b_true = np.random.normal(size=(K, 1))\n",
    "v = np.random.normal(size=(K, mTrain + mTest)) # noise\n",
    "data = np.random.normal(size=(n, mTrain + mTest))\n",
    "label = np.argmax(A_true @ data + np.tile(b_true, (1, mTrain + mTest)) + v, axis=0)"
   ]
  },
  {
   "cell_type": "markdown",
   "metadata": {
    "id": "CmNZfSCO8gAk"
   },
   "source": [
    "Assign data to test and train"
   ]
  },
  {
   "cell_type": "code",
   "execution_count": 4,
   "metadata": {
    "id": "q04EZZEg4ddR"
   },
   "outputs": [],
   "source": [
    "# Training data\n",
    "x = data[:, :mTrain]\n",
    "y = label[:mTrain]\n",
    "# Test data\n",
    "xtest = data[:, mTrain:]\n",
    "ytest = label[mTrain:]"
   ]
  }
 ],
 "metadata": {
  "colab": {
   "provenance": []
  },
  "kernelspec": {
   "display_name": "Python 3 (ipykernel)",
   "language": "python",
   "name": "python3"
  },
  "language_info": {
   "codemirror_mode": {
    "name": "ipython",
    "version": 3
   },
   "file_extension": ".py",
   "mimetype": "text/x-python",
   "name": "python",
   "nbconvert_exporter": "python",
   "pygments_lexer": "ipython3",
   "version": "3.11.6"
  }
 },
 "nbformat": 4,
 "nbformat_minor": 4
}
