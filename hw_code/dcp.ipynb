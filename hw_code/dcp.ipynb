{
 "cells": [
  {
   "cell_type": "code",
   "execution_count": 14,
   "id": "525a7249-502a-481a-9be3-f26c337a2b47",
   "metadata": {},
   "outputs": [
    {
     "name": "stdout",
     "output_type": "stream",
     "text": [
      "norm1(1.0 + quad_over_lin(var67, power(var68, 0.5)))\n",
      "The problem is a DCP: True\n"
     ]
    }
   ],
   "source": [
    "import cvxpy as cp\n",
    "\n",
    "# create variables \n",
    "x = cp.Variable()\n",
    "y = cp.Variable() \n",
    "\n",
    "f = cp.norm2(1 + cp.quad_over_lin(x,cp.sqrt(y)))\n",
    "print(f)\n",
    "\n",
    "obj = cp.Problem(cp.Minimize(f)) \n",
    "\n",
    "print(f\"The problem is a DCP: {obj.is_dcp()}\")\n"
   ]
  },
  {
   "cell_type": "code",
   "execution_count": null,
   "id": "ad9320b3-3bed-4650-b88f-986fac10e281",
   "metadata": {},
   "outputs": [],
   "source": []
  },
  {
   "cell_type": "code",
   "execution_count": null,
   "id": "0a98795b-5e05-4baa-a426-9ab175fa2ecf",
   "metadata": {},
   "outputs": [],
   "source": []
  }
 ],
 "metadata": {
  "kernelspec": {
   "display_name": "venv",
   "language": "python",
   "name": "venv"
  },
  "language_info": {
   "codemirror_mode": {
    "name": "ipython",
    "version": 3
   },
   "file_extension": ".py",
   "mimetype": "text/x-python",
   "name": "python",
   "nbconvert_exporter": "python",
   "pygments_lexer": "ipython3",
   "version": "3.11.6"
  }
 },
 "nbformat": 4,
 "nbformat_minor": 5
}
