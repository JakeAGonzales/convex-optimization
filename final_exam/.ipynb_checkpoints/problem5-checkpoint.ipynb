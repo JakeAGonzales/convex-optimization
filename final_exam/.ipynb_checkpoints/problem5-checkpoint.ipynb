{
 "cells": [
  {
   "cell_type": "code",
   "execution_count": 24,
   "id": "07b70c62-e2ef-4040-8eb0-7342073eca05",
   "metadata": {},
   "outputs": [
    {
     "name": "stdout",
     "output_type": "stream",
     "text": [
      "[63]\n",
      "[ 0  1  2  3  4  5  6  7  8  9 10 11 12 13 14 15 16 17 18 19 20 21 22 23\n",
      " 24 25 26 27 28 29 30 31 32 33 34 35 36 37 38 39 40 41 42 43 44 45 46 47\n",
      " 48 49 50 51 52 53 54 55 56 57 58 59 60 61 62 64 65 66 67 68 69 70 71 72\n",
      " 73 74 75 76 77 78 79 80 81 82 83 84 85 86 87 88 89 90 91 92 93 94 95 96\n",
      " 97 98 99]\n"
     ]
    }
   ],
   "source": [
    "# Given Data\n",
    "\n",
    "import numpy as np\n",
    "import cvxpy as cp\n",
    "from scipy import linalg\n",
    "\n",
    "np. random.seed (0)\n",
    "\n",
    "n = 5 # dimension\n",
    "N = 100 # number of distance samples\n",
    "N_test = 10\n",
    "\n",
    "X = np. random.normal(size =(n, N))\n",
    "Y = np. random.normal(size =(n, N))\n",
    "\n",
    "P = np.random.normal (size =(n, n))\n",
    "P = P @ P.T + np.eye(n)\n",
    "sqrtP = linalg.sqrtm (P)\n",
    "\n",
    "d = np.linalg.norm (sqrtP @ (X - Y), axis =0) # exact distances\n",
    "d = np.maximum(np.zeros (len(d)), d+np.random.normal( size =(1 , N))) # add noise and make nonnegative\n",
    "\n",
    "# create sets to determine if X and Y are similar to each other\n",
    "distances = np.linalg.norm(X - Y, axis=0)\n",
    "\n",
    "# for similarity\n",
    "threshold = 1.0  \n",
    "\n",
    "similar_set = np.where(distances <= threshold)[0]\n",
    "not_similar_set = np.where(distances > threshold)[0]\n",
    "\n",
    "\n",
    "\n",
    "\n"
   ]
  },
  {
   "cell_type": "code",
   "execution_count": 31,
   "id": "a9049064-eda3-45f3-a50c-24384d3b3010",
   "metadata": {},
   "outputs": [
    {
     "ename": "TypeError",
     "evalue": "cannot unpack non-iterable numpy.int64 object",
     "output_type": "error",
     "traceback": [
      "\u001b[0;31m---------------------------------------------------------------------------\u001b[0m",
      "\u001b[0;31mTypeError\u001b[0m                                 Traceback (most recent call last)",
      "Cell \u001b[0;32mIn[31], line 33\u001b[0m\n\u001b[1;32m     30\u001b[0m m \u001b[38;5;241m=\u001b[39m \u001b[38;5;28mlen\u001b[39m(similar_set)\n\u001b[1;32m     31\u001b[0m A \u001b[38;5;241m=\u001b[39m cp\u001b[38;5;241m.\u001b[39mVariable((m, m), symmetric\u001b[38;5;241m=\u001b[39m\u001b[38;5;28;01mTrue\u001b[39;00m)\n\u001b[0;32m---> 33\u001b[0m objective \u001b[38;5;241m=\u001b[39m cp\u001b[38;5;241m.\u001b[39mMinimize(cp\u001b[38;5;241m.\u001b[39msum(\u001b[43m[\u001b[49m\u001b[43mcp\u001b[49m\u001b[38;5;241;43m.\u001b[39;49m\u001b[43mnorm\u001b[49m\u001b[43m(\u001b[49m\u001b[43mX\u001b[49m\u001b[43m[\u001b[49m\u001b[43m:\u001b[49m\u001b[43m,\u001b[49m\u001b[43m \u001b[49m\u001b[43mi\u001b[49m\u001b[43m]\u001b[49m\u001b[43m \u001b[49m\u001b[38;5;241;43m-\u001b[39;49m\u001b[43m \u001b[49m\u001b[43mY\u001b[49m\u001b[43m[\u001b[49m\u001b[43m:\u001b[49m\u001b[43m,\u001b[49m\u001b[43m \u001b[49m\u001b[43mj\u001b[49m\u001b[43m]\u001b[49m\u001b[43m,\u001b[49m\u001b[43m \u001b[49m\u001b[38;5;241;43m2\u001b[39;49m\u001b[43m)\u001b[49m\u001b[43m \u001b[49m\u001b[38;5;28;43;01mfor\u001b[39;49;00m\u001b[43m \u001b[49m\u001b[43mi\u001b[49m\u001b[43m,\u001b[49m\u001b[43mj\u001b[49m\u001b[43m \u001b[49m\u001b[38;5;129;43;01min\u001b[39;49;00m\u001b[43m \u001b[49m\u001b[43mnp\u001b[49m\u001b[38;5;241;43m.\u001b[39;49m\u001b[43mwhere\u001b[49m\u001b[43m(\u001b[49m\u001b[43mdistances\u001b[49m\u001b[43m \u001b[49m\u001b[38;5;241;43m>\u001b[39;49m\u001b[43m \u001b[49m\u001b[43mthreshold\u001b[49m\u001b[43m)\u001b[49m\u001b[43m[\u001b[49m\u001b[38;5;241;43m0\u001b[39;49m\u001b[43m]\u001b[49m\u001b[43m]\u001b[49m))\n\u001b[1;32m     34\u001b[0m constraints \u001b[38;5;241m=\u001b[39m [A \u001b[38;5;241m>>\u001b[39m \u001b[38;5;241m0\u001b[39m]  \n\u001b[1;32m     35\u001b[0m constraints \u001b[38;5;241m+\u001b[39m\u001b[38;5;241m=\u001b[39m [cp\u001b[38;5;241m.\u001b[39mnorm(X[:, i] \u001b[38;5;241m-\u001b[39m Y[:, j], \u001b[38;5;241m2\u001b[39m) \u001b[38;5;241m>\u001b[39m\u001b[38;5;241m=\u001b[39m \u001b[38;5;241m1\u001b[39m \u001b[38;5;28;01mfor\u001b[39;00m i,j \u001b[38;5;129;01min\u001b[39;00m np\u001b[38;5;241m.\u001b[39mwhere(distances \u001b[38;5;241m<\u001b[39m\u001b[38;5;241m=\u001b[39m threshold)[\u001b[38;5;241m0\u001b[39m]]\n",
      "Cell \u001b[0;32mIn[31], line 33\u001b[0m, in \u001b[0;36m<listcomp>\u001b[0;34m(.0)\u001b[0m\n\u001b[1;32m     30\u001b[0m m \u001b[38;5;241m=\u001b[39m \u001b[38;5;28mlen\u001b[39m(similar_set)\n\u001b[1;32m     31\u001b[0m A \u001b[38;5;241m=\u001b[39m cp\u001b[38;5;241m.\u001b[39mVariable((m, m), symmetric\u001b[38;5;241m=\u001b[39m\u001b[38;5;28;01mTrue\u001b[39;00m)\n\u001b[0;32m---> 33\u001b[0m objective \u001b[38;5;241m=\u001b[39m cp\u001b[38;5;241m.\u001b[39mMinimize(cp\u001b[38;5;241m.\u001b[39msum([cp\u001b[38;5;241m.\u001b[39mnorm(X[:, i] \u001b[38;5;241m-\u001b[39m Y[:, j], \u001b[38;5;241m2\u001b[39m) \u001b[38;5;28;01mfor\u001b[39;00m i,j \u001b[38;5;129;01min\u001b[39;00m np\u001b[38;5;241m.\u001b[39mwhere(distances \u001b[38;5;241m>\u001b[39m threshold)[\u001b[38;5;241m0\u001b[39m]]))\n\u001b[1;32m     34\u001b[0m constraints \u001b[38;5;241m=\u001b[39m [A \u001b[38;5;241m>>\u001b[39m \u001b[38;5;241m0\u001b[39m]  \n\u001b[1;32m     35\u001b[0m constraints \u001b[38;5;241m+\u001b[39m\u001b[38;5;241m=\u001b[39m [cp\u001b[38;5;241m.\u001b[39mnorm(X[:, i] \u001b[38;5;241m-\u001b[39m Y[:, j], \u001b[38;5;241m2\u001b[39m) \u001b[38;5;241m>\u001b[39m\u001b[38;5;241m=\u001b[39m \u001b[38;5;241m1\u001b[39m \u001b[38;5;28;01mfor\u001b[39;00m i,j \u001b[38;5;129;01min\u001b[39;00m np\u001b[38;5;241m.\u001b[39mwhere(distances \u001b[38;5;241m<\u001b[39m\u001b[38;5;241m=\u001b[39m threshold)[\u001b[38;5;241m0\u001b[39m]]\n",
      "\u001b[0;31mTypeError\u001b[0m: cannot unpack non-iterable numpy.int64 object"
     ]
    }
   ],
   "source": [
    "import numpy as np\n",
    "import cvxpy as cp\n",
    "from scipy import linalg\n",
    "\n",
    "np.random.seed(0)\n",
    "\n",
    "n = 5  # dimension\n",
    "N = 100  # number of distance samples\n",
    "\n",
    "X = np.random.normal(size=(n, N))\n",
    "Y = np.random.normal(size=(n, N))\n",
    "\n",
    "P = np.random.normal(size=(n, n))\n",
    "P = P @ P.T + np.eye(n)\n",
    "sqrtP = linalg.sqrtm(P)\n",
    "\n",
    "d = np.linalg.norm(sqrtP @ (X - Y), axis=0)  # exact distances\n",
    "d = np.maximum(np.zeros(len(d_exact)), d + np.random.normal(size=(1, N)))  # add noise and make nonnegative\n",
    "\n",
    "# create sets to determine if X and Y are similar to each other\n",
    "distances = np.linalg.norm(X - Y, axis=0)\n",
    "\n",
    "# for similarity\n",
    "threshold = 1.0\n",
    "\n",
    "similar_set = np.where(distances <= threshold)[0]\n",
    "not_similar_set = np.where(distances > threshold)[0]\n",
    "\n",
    "# Define the optimization variable\n",
    "m = len(similar_set)\n",
    "A = cp.Variable((m, m), symmetric=True)\n",
    "\n",
    "objective = cp.Minimize(cp.sum([cp.norm(X[:, i] - Y[:, j], 2) for i,j in np.where(distances > threshold)[0]]))\n",
    "constraints = [A >> 0]  \n",
    "constraints += [cp.norm(X[:, i] - Y[:, j], 2) >= 1 for i,j in np.where(distances <= threshold)[0]]\n",
    "\n",
    "# Create the problem and solve\n",
    "problem = cp.Problem(objective, constraints)\n",
    "problem.solve()\n",
    "\n",
    "# Extract the solution\n",
    "A_optimal = A.value\n",
    "\n",
    "# Print the optimal matrix A\n",
    "print(\"Optimal Matrix A:\")\n",
    "print(A_optimal)\n"
   ]
  },
  {
   "cell_type": "code",
   "execution_count": null,
   "id": "71685c02-89bb-4b3b-9860-b50752e5b71b",
   "metadata": {},
   "outputs": [],
   "source": []
  }
 ],
 "metadata": {
  "kernelspec": {
   "display_name": "venv",
   "language": "python",
   "name": "venv"
  },
  "language_info": {
   "codemirror_mode": {
    "name": "ipython",
    "version": 3
   },
   "file_extension": ".py",
   "mimetype": "text/x-python",
   "name": "python",
   "nbconvert_exporter": "python",
   "pygments_lexer": "ipython3",
   "version": "3.11.6"
  }
 },
 "nbformat": 4,
 "nbformat_minor": 5
}
