{
 "cells": [
  {
   "cell_type": "code",
   "execution_count": 42,
   "id": "07b70c62-e2ef-4040-8eb0-7342073eca05",
   "metadata": {},
   "outputs": [],
   "source": [
    "# Given Data\n",
    "\n",
    "import numpy as np\n",
    "import cvxpy as cp\n",
    "from scipy import linalg\n",
    "\n",
    "np. random.seed (0)\n",
    "\n",
    "n = 5 # dimension\n",
    "N = 100 # number of distance samples\n",
    "N_test = 10\n",
    "\n",
    "X = np. random.normal(size =(n, N))\n",
    "Y = np. random.normal(size =(n, N))\n",
    "\n",
    "P = np.random.normal (size =(n, n))\n",
    "P = P @ P.T + np.eye(n)\n",
    "sqrtP = linalg.sqrtm (P)\n",
    "\n",
    "d = np.linalg.norm (sqrtP @ (X - Y), axis =0) # exact distances\n",
    "d = np.maximum(np.zeros (len(d)), d+np.random.normal( size =(1 , N))) # add noise and make nonnegative\n",
    "\n",
    "# create sets to determine if X and Y are similar to each other\n",
    "distances = np.linalg.norm(X - Y, axis=0)\n",
    "\n",
    "# for similarity\n",
    "threshold = 1.0  \n",
    "\n",
    "similar_set = np.where(distances <= threshold)[0]\n",
    "not_similar_set = np.where(distances > threshold)[0]\n",
    "\n",
    "\n",
    "\n",
    "\n"
   ]
  },
  {
   "cell_type": "code",
   "execution_count": 47,
   "id": "4e630419-f28c-46fc-b110-9a2cb04af371",
   "metadata": {},
   "outputs": [
    {
     "name": "stdout",
     "output_type": "stream",
     "text": [
      "Optimal A:\n",
      " [[ 0.28332619  0.10190303  0.2609798   0.08383585 -0.08832993]\n",
      " [ 0.10190303 -0.06346669  0.07605456 -0.10060897 -0.23740941]\n",
      " [ 0.2609798   0.07605456  0.23565457  0.05064444 -0.11861157]\n",
      " [ 0.08383585 -0.10060897  0.05064444 -0.14886147 -0.29827173]\n",
      " [-0.08832993 -0.23740941 -0.11861157 -0.29827173 -0.39423258]]\n"
     ]
    }
   ],
   "source": [
    "import numpy as np\n",
    "import cvxpy as cp\n",
    "\n",
    "# problem 5\n",
    "\n",
    "# Given data\n",
    "n = 5  # dimension\n",
    "N = 100  # number of distance samples\n",
    "N_test = 10\n",
    "\n",
    "X = np.random.normal(size=(n, N))\n",
    "Y = np.random.normal(size=(n, N))\n",
    "\n",
    "# Constructing the distance matrix\n",
    "P = np.random.normal(size=(n, n))\n",
    "P = P @ P.T + np.eye(n)\n",
    "sqrtP = np.linalg.cholesky(P)\n",
    "distances = np.linalg.norm(sqrtP @ (X - Y), axis=0)\n",
    "d_true = np.maximum(np.zeros(len(distances)), distances + np.random.normal(size=(1, N)))\n",
    "\n",
    "# Sets for similarity and dissimilarity\n",
    "similar_set = np.where(distances <= threshold)[0]\n",
    "not_similar_set = np.where(distances > threshold)[0]\n",
    "\n",
    "# Convex optimization problem\n",
    "A = cp.Variable((n, n), symmetric=True)  # Positive semi-definite matrix\n",
    "d_predicted = M @ (X - Y)\n",
    "\n",
    "\n",
    "squared_error = cp.sum_squares(d_predicted - d_true)\n",
    "\n",
    "prob = cp.Problem(cp.Minimize(squared_error))\n",
    "prob.solve()\n",
    "\n",
    "\n",
    "if prob.status == cp.OPTIMAL:\n",
    "    # Optimal matrix M\n",
    "    optimal_A = A.value\n",
    "    print(\"Optimal A:\\n\", optimal_M)\n",
    "else:\n",
    "    print(\"Problem was not solved successfully.\")\n",
    "\n"
   ]
  },
  {
   "cell_type": "code",
   "execution_count": null,
   "id": "4642a5d7-870a-4afd-a1a1-a20e12ab0a82",
   "metadata": {},
   "outputs": [],
   "source": []
  }
 ],
 "metadata": {
  "kernelspec": {
   "display_name": "venv",
   "language": "python",
   "name": "venv"
  },
  "language_info": {
   "codemirror_mode": {
    "name": "ipython",
    "version": 3
   },
   "file_extension": ".py",
   "mimetype": "text/x-python",
   "name": "python",
   "nbconvert_exporter": "python",
   "pygments_lexer": "ipython3",
   "version": "3.11.6"
  }
 },
 "nbformat": 4,
 "nbformat_minor": 5
}
